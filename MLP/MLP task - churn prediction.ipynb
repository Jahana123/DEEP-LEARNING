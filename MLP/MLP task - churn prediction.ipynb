{
 "cells": [
  {
   "cell_type": "markdown",
   "id": "51024f32",
   "metadata": {},
   "source": [
    "### How can we design and train an MLP neural network to predict customer churn based on historical usage patterns, demographic information, and other relevant features, with the aim of improving retention strategies for our business?"
   ]
  },
  {
   "cell_type": "code",
   "execution_count": null,
   "id": "23a6be12",
   "metadata": {},
   "outputs": [],
   "source": [
    "# churn prediction is a methodology that involves the data-driven pinpointing of customer accounts that are at high risk of downgrading their engagement, canceling their subscription, or disengaging with your company. "
   ]
  },
  {
   "cell_type": "code",
   "execution_count": 1,
   "id": "7aa45736",
   "metadata": {},
   "outputs": [],
   "source": [
    "import matplotlib.pyplot as plt\n",
    "import seaborn as sns\n",
    "import numpy as np\n",
    "import pandas as pd"
   ]
  },
  {
   "cell_type": "code",
   "execution_count": 2,
   "id": "f035f749",
   "metadata": {},
   "outputs": [
    {
     "data": {
      "text/html": [
       "<div>\n",
       "<style scoped>\n",
       "    .dataframe tbody tr th:only-of-type {\n",
       "        vertical-align: middle;\n",
       "    }\n",
       "\n",
       "    .dataframe tbody tr th {\n",
       "        vertical-align: top;\n",
       "    }\n",
       "\n",
       "    .dataframe thead th {\n",
       "        text-align: right;\n",
       "    }\n",
       "</style>\n",
       "<table border=\"1\" class=\"dataframe\">\n",
       "  <thead>\n",
       "    <tr style=\"text-align: right;\">\n",
       "      <th></th>\n",
       "      <th>Names</th>\n",
       "      <th>Age</th>\n",
       "      <th>Total_Purchase</th>\n",
       "      <th>Account_Manager</th>\n",
       "      <th>Years</th>\n",
       "      <th>Num_Sites</th>\n",
       "      <th>Onboard_date</th>\n",
       "      <th>Location</th>\n",
       "      <th>Company</th>\n",
       "      <th>Churn</th>\n",
       "    </tr>\n",
       "  </thead>\n",
       "  <tbody>\n",
       "    <tr>\n",
       "      <th>0</th>\n",
       "      <td>Cameron Williams</td>\n",
       "      <td>42.0</td>\n",
       "      <td>11066.80</td>\n",
       "      <td>0</td>\n",
       "      <td>7.22</td>\n",
       "      <td>8.0</td>\n",
       "      <td>2013-08-30 07:00:40</td>\n",
       "      <td>10265 Elizabeth Mission Barkerburgh, AK 89518</td>\n",
       "      <td>Harvey LLC</td>\n",
       "      <td>1</td>\n",
       "    </tr>\n",
       "    <tr>\n",
       "      <th>1</th>\n",
       "      <td>Kevin Mueller</td>\n",
       "      <td>41.0</td>\n",
       "      <td>11916.22</td>\n",
       "      <td>0</td>\n",
       "      <td>6.50</td>\n",
       "      <td>11.0</td>\n",
       "      <td>2013-08-13 00:38:46</td>\n",
       "      <td>6157 Frank Gardens Suite 019 Carloshaven, RI 1...</td>\n",
       "      <td>Wilson PLC</td>\n",
       "      <td>1</td>\n",
       "    </tr>\n",
       "    <tr>\n",
       "      <th>2</th>\n",
       "      <td>Eric Lozano</td>\n",
       "      <td>38.0</td>\n",
       "      <td>12884.75</td>\n",
       "      <td>0</td>\n",
       "      <td>6.67</td>\n",
       "      <td>12.0</td>\n",
       "      <td>2016-06-29 06:20:07</td>\n",
       "      <td>1331 Keith Court Alyssahaven, DE 90114</td>\n",
       "      <td>Miller, Johnson and Wallace</td>\n",
       "      <td>1</td>\n",
       "    </tr>\n",
       "    <tr>\n",
       "      <th>3</th>\n",
       "      <td>Phillip White</td>\n",
       "      <td>42.0</td>\n",
       "      <td>8010.76</td>\n",
       "      <td>0</td>\n",
       "      <td>6.71</td>\n",
       "      <td>10.0</td>\n",
       "      <td>2014-04-22 12:43:12</td>\n",
       "      <td>13120 Daniel Mount Angelabury, WY 30645-4695</td>\n",
       "      <td>Smith Inc</td>\n",
       "      <td>1</td>\n",
       "    </tr>\n",
       "    <tr>\n",
       "      <th>4</th>\n",
       "      <td>Cynthia Norton</td>\n",
       "      <td>37.0</td>\n",
       "      <td>9191.58</td>\n",
       "      <td>0</td>\n",
       "      <td>5.56</td>\n",
       "      <td>9.0</td>\n",
       "      <td>2016-01-19 15:31:15</td>\n",
       "      <td>765 Tricia Row Karenshire, MH 71730</td>\n",
       "      <td>Love-Jones</td>\n",
       "      <td>1</td>\n",
       "    </tr>\n",
       "  </tbody>\n",
       "</table>\n",
       "</div>"
      ],
      "text/plain": [
       "              Names   Age  Total_Purchase  Account_Manager  Years  Num_Sites  \\\n",
       "0  Cameron Williams  42.0        11066.80                0   7.22        8.0   \n",
       "1     Kevin Mueller  41.0        11916.22                0   6.50       11.0   \n",
       "2       Eric Lozano  38.0        12884.75                0   6.67       12.0   \n",
       "3     Phillip White  42.0         8010.76                0   6.71       10.0   \n",
       "4    Cynthia Norton  37.0         9191.58                0   5.56        9.0   \n",
       "\n",
       "          Onboard_date                                           Location  \\\n",
       "0  2013-08-30 07:00:40      10265 Elizabeth Mission Barkerburgh, AK 89518   \n",
       "1  2013-08-13 00:38:46  6157 Frank Gardens Suite 019 Carloshaven, RI 1...   \n",
       "2  2016-06-29 06:20:07             1331 Keith Court Alyssahaven, DE 90114   \n",
       "3  2014-04-22 12:43:12       13120 Daniel Mount Angelabury, WY 30645-4695   \n",
       "4  2016-01-19 15:31:15                765 Tricia Row Karenshire, MH 71730   \n",
       "\n",
       "                       Company  Churn  \n",
       "0                   Harvey LLC      1  \n",
       "1                   Wilson PLC      1  \n",
       "2  Miller, Johnson and Wallace      1  \n",
       "3                    Smith Inc      1  \n",
       "4                   Love-Jones      1  "
      ]
     },
     "execution_count": 2,
     "metadata": {},
     "output_type": "execute_result"
    }
   ],
   "source": [
    "data=pd.read_csv('customer_churn.csv')\n",
    "data.head()"
   ]
  },
  {
   "cell_type": "code",
   "execution_count": 3,
   "id": "8b78d49e",
   "metadata": {},
   "outputs": [],
   "source": [
    "from sklearn.utils import shuffle\n",
    "data=shuffle(data)"
   ]
  },
  {
   "cell_type": "code",
   "execution_count": 4,
   "id": "361ddc41",
   "metadata": {},
   "outputs": [
    {
     "data": {
      "text/plain": [
       "(900, 10)"
      ]
     },
     "execution_count": 4,
     "metadata": {},
     "output_type": "execute_result"
    }
   ],
   "source": [
    "data.shape"
   ]
  },
  {
   "cell_type": "code",
   "execution_count": 5,
   "id": "bdf4c324",
   "metadata": {},
   "outputs": [
    {
     "data": {
      "text/plain": [
       "9000"
      ]
     },
     "execution_count": 5,
     "metadata": {},
     "output_type": "execute_result"
    }
   ],
   "source": [
    "data.size"
   ]
  },
  {
   "cell_type": "code",
   "execution_count": 6,
   "id": "a3d3f16d",
   "metadata": {},
   "outputs": [
    {
     "name": "stdout",
     "output_type": "stream",
     "text": [
      "<class 'pandas.core.frame.DataFrame'>\n",
      "Int64Index: 900 entries, 549 to 349\n",
      "Data columns (total 10 columns):\n",
      " #   Column           Non-Null Count  Dtype  \n",
      "---  ------           --------------  -----  \n",
      " 0   Names            900 non-null    object \n",
      " 1   Age              900 non-null    float64\n",
      " 2   Total_Purchase   900 non-null    float64\n",
      " 3   Account_Manager  900 non-null    int64  \n",
      " 4   Years            900 non-null    float64\n",
      " 5   Num_Sites        900 non-null    float64\n",
      " 6   Onboard_date     900 non-null    object \n",
      " 7   Location         900 non-null    object \n",
      " 8   Company          900 non-null    object \n",
      " 9   Churn            900 non-null    int64  \n",
      "dtypes: float64(4), int64(2), object(4)\n",
      "memory usage: 77.3+ KB\n"
     ]
    }
   ],
   "source": [
    "data.info()"
   ]
  },
  {
   "cell_type": "code",
   "execution_count": 7,
   "id": "e42b9f35",
   "metadata": {},
   "outputs": [
    {
     "data": {
      "text/html": [
       "<div>\n",
       "<style scoped>\n",
       "    .dataframe tbody tr th:only-of-type {\n",
       "        vertical-align: middle;\n",
       "    }\n",
       "\n",
       "    .dataframe tbody tr th {\n",
       "        vertical-align: top;\n",
       "    }\n",
       "\n",
       "    .dataframe thead th {\n",
       "        text-align: right;\n",
       "    }\n",
       "</style>\n",
       "<table border=\"1\" class=\"dataframe\">\n",
       "  <thead>\n",
       "    <tr style=\"text-align: right;\">\n",
       "      <th></th>\n",
       "      <th>Age</th>\n",
       "      <th>Total_Purchase</th>\n",
       "      <th>Account_Manager</th>\n",
       "      <th>Years</th>\n",
       "      <th>Num_Sites</th>\n",
       "      <th>Churn</th>\n",
       "    </tr>\n",
       "  </thead>\n",
       "  <tbody>\n",
       "    <tr>\n",
       "      <th>count</th>\n",
       "      <td>900.000000</td>\n",
       "      <td>900.000000</td>\n",
       "      <td>900.000000</td>\n",
       "      <td>900.000000</td>\n",
       "      <td>900.000000</td>\n",
       "      <td>900.000000</td>\n",
       "    </tr>\n",
       "    <tr>\n",
       "      <th>mean</th>\n",
       "      <td>41.816667</td>\n",
       "      <td>10062.824033</td>\n",
       "      <td>0.481111</td>\n",
       "      <td>5.273156</td>\n",
       "      <td>8.587778</td>\n",
       "      <td>0.166667</td>\n",
       "    </tr>\n",
       "    <tr>\n",
       "      <th>std</th>\n",
       "      <td>6.127560</td>\n",
       "      <td>2408.644532</td>\n",
       "      <td>0.499921</td>\n",
       "      <td>1.274449</td>\n",
       "      <td>1.764836</td>\n",
       "      <td>0.372885</td>\n",
       "    </tr>\n",
       "    <tr>\n",
       "      <th>min</th>\n",
       "      <td>22.000000</td>\n",
       "      <td>100.000000</td>\n",
       "      <td>0.000000</td>\n",
       "      <td>1.000000</td>\n",
       "      <td>3.000000</td>\n",
       "      <td>0.000000</td>\n",
       "    </tr>\n",
       "    <tr>\n",
       "      <th>25%</th>\n",
       "      <td>38.000000</td>\n",
       "      <td>8497.122500</td>\n",
       "      <td>0.000000</td>\n",
       "      <td>4.450000</td>\n",
       "      <td>7.000000</td>\n",
       "      <td>0.000000</td>\n",
       "    </tr>\n",
       "    <tr>\n",
       "      <th>50%</th>\n",
       "      <td>42.000000</td>\n",
       "      <td>10045.870000</td>\n",
       "      <td>0.000000</td>\n",
       "      <td>5.215000</td>\n",
       "      <td>8.000000</td>\n",
       "      <td>0.000000</td>\n",
       "    </tr>\n",
       "    <tr>\n",
       "      <th>75%</th>\n",
       "      <td>46.000000</td>\n",
       "      <td>11760.105000</td>\n",
       "      <td>1.000000</td>\n",
       "      <td>6.110000</td>\n",
       "      <td>10.000000</td>\n",
       "      <td>0.000000</td>\n",
       "    </tr>\n",
       "    <tr>\n",
       "      <th>max</th>\n",
       "      <td>65.000000</td>\n",
       "      <td>18026.010000</td>\n",
       "      <td>1.000000</td>\n",
       "      <td>9.150000</td>\n",
       "      <td>14.000000</td>\n",
       "      <td>1.000000</td>\n",
       "    </tr>\n",
       "  </tbody>\n",
       "</table>\n",
       "</div>"
      ],
      "text/plain": [
       "              Age  Total_Purchase  Account_Manager       Years   Num_Sites  \\\n",
       "count  900.000000      900.000000       900.000000  900.000000  900.000000   \n",
       "mean    41.816667    10062.824033         0.481111    5.273156    8.587778   \n",
       "std      6.127560     2408.644532         0.499921    1.274449    1.764836   \n",
       "min     22.000000      100.000000         0.000000    1.000000    3.000000   \n",
       "25%     38.000000     8497.122500         0.000000    4.450000    7.000000   \n",
       "50%     42.000000    10045.870000         0.000000    5.215000    8.000000   \n",
       "75%     46.000000    11760.105000         1.000000    6.110000   10.000000   \n",
       "max     65.000000    18026.010000         1.000000    9.150000   14.000000   \n",
       "\n",
       "            Churn  \n",
       "count  900.000000  \n",
       "mean     0.166667  \n",
       "std      0.372885  \n",
       "min      0.000000  \n",
       "25%      0.000000  \n",
       "50%      0.000000  \n",
       "75%      0.000000  \n",
       "max      1.000000  "
      ]
     },
     "execution_count": 7,
     "metadata": {},
     "output_type": "execute_result"
    }
   ],
   "source": [
    "data.describe()"
   ]
  },
  {
   "cell_type": "code",
   "execution_count": 8,
   "id": "d3420793",
   "metadata": {},
   "outputs": [
    {
     "data": {
      "text/plain": [
       "Names              0\n",
       "Age                0\n",
       "Total_Purchase     0\n",
       "Account_Manager    0\n",
       "Years              0\n",
       "Num_Sites          0\n",
       "Onboard_date       0\n",
       "Location           0\n",
       "Company            0\n",
       "Churn              0\n",
       "dtype: int64"
      ]
     },
     "execution_count": 8,
     "metadata": {},
     "output_type": "execute_result"
    }
   ],
   "source": [
    "data.isnull().sum()"
   ]
  },
  {
   "cell_type": "code",
   "execution_count": 9,
   "id": "d71ae0a7",
   "metadata": {},
   "outputs": [
    {
     "data": {
      "text/plain": [
       "0"
      ]
     },
     "execution_count": 9,
     "metadata": {},
     "output_type": "execute_result"
    }
   ],
   "source": [
    "data.duplicated().sum()"
   ]
  },
  {
   "cell_type": "code",
   "execution_count": 10,
   "id": "38c7c01e",
   "metadata": {},
   "outputs": [
    {
     "data": {
      "text/plain": [
       "Index(['Names', 'Age', 'Total_Purchase', 'Account_Manager', 'Years',\n",
       "       'Num_Sites', 'Onboard_date', 'Location', 'Company', 'Churn'],\n",
       "      dtype='object')"
      ]
     },
     "execution_count": 10,
     "metadata": {},
     "output_type": "execute_result"
    }
   ],
   "source": [
    "data.columns"
   ]
  },
  {
   "cell_type": "code",
   "execution_count": 11,
   "id": "5f264abf",
   "metadata": {},
   "outputs": [
    {
     "data": {
      "text/plain": [
       "<Figure size 800x800 with 0 Axes>"
      ]
     },
     "metadata": {},
     "output_type": "display_data"
    },
    {
     "data": {
      "image/png": "[encoded data removed]",
      "text/plain": [
       "<Figure size 500x500 with 1 Axes>"
      ]
     },
     "metadata": {},
     "output_type": "display_data"
    }
   ],
   "source": [
    "sns.set()\n",
    "plt.figure(figsize=(8,8))\n",
    "sns.displot(data['Age'])\n",
    "plt.show()"
   ]
  },
  {
   "cell_type": "code",
   "execution_count": 12,
   "id": "f8cc007a",
   "metadata": {},
   "outputs": [
    {
     "data": {
      "text/plain": [
       "<Figure size 800x800 with 0 Axes>"
      ]
     },
     "metadata": {},
     "output_type": "display_data"
    },
    {
     "data": {
      "image/png": "[encoded data removed]",
      "text/plain": [
       "<Figure size 500x500 with 1 Axes>"
      ]
     },
     "metadata": {},
     "output_type": "display_data"
    }
   ],
   "source": [
    "sns.set()\n",
    "plt.figure(figsize=(8,8))\n",
    "sns.displot(data['Total_Purchase'])\n",
    "plt.show()"
   ]
  },
  {
   "cell_type": "code",
   "execution_count": 13,
   "id": "8e3369c4",
   "metadata": {},
   "outputs": [
    {
     "data": {
      "image/png": "[encoded data removed]",
      "text/plain": [
       "<Figure size 800x800 with 1 Axes>"
      ]
     },
     "metadata": {},
     "output_type": "display_data"
    }
   ],
   "source": [
    "plt.figure(figsize=(8,8))\n",
    "sns.countplot(x='Churn',data=data)\n",
    "plt.show()"
   ]
  },
  {
   "cell_type": "code",
   "execution_count": 14,
   "id": "1c99ae36",
   "metadata": {},
   "outputs": [],
   "source": [
    "#irrelevant columns like 'Names', 'Onboard_date', 'Location', 'Company'\n",
    "data = data.drop(columns=['Names', 'Onboard_date', 'Location', 'Company'])"
   ]
  },
  {
   "cell_type": "code",
   "execution_count": 15,
   "id": "372843b9",
   "metadata": {},
   "outputs": [
    {
     "data": {
      "text/html": [
       "<div>\n",
       "<style scoped>\n",
       "    .dataframe tbody tr th:only-of-type {\n",
       "        vertical-align: middle;\n",
       "    }\n",
       "\n",
       "    .dataframe tbody tr th {\n",
       "        vertical-align: top;\n",
       "    }\n",
       "\n",
       "    .dataframe thead th {\n",
       "        text-align: right;\n",
       "    }\n",
       "</style>\n",
       "<table border=\"1\" class=\"dataframe\">\n",
       "  <thead>\n",
       "    <tr style=\"text-align: right;\">\n",
       "      <th></th>\n",
       "      <th>Age</th>\n",
       "      <th>Total_Purchase</th>\n",
       "      <th>Account_Manager</th>\n",
       "      <th>Years</th>\n",
       "      <th>Num_Sites</th>\n",
       "      <th>Churn</th>\n",
       "    </tr>\n",
       "  </thead>\n",
       "  <tbody>\n",
       "    <tr>\n",
       "      <th>549</th>\n",
       "      <td>45.0</td>\n",
       "      <td>9852.25</td>\n",
       "      <td>1</td>\n",
       "      <td>4.55</td>\n",
       "      <td>8.0</td>\n",
       "      <td>0</td>\n",
       "    </tr>\n",
       "    <tr>\n",
       "      <th>73</th>\n",
       "      <td>37.0</td>\n",
       "      <td>11145.95</td>\n",
       "      <td>1</td>\n",
       "      <td>5.87</td>\n",
       "      <td>11.0</td>\n",
       "      <td>1</td>\n",
       "    </tr>\n",
       "    <tr>\n",
       "      <th>295</th>\n",
       "      <td>41.0</td>\n",
       "      <td>12008.34</td>\n",
       "      <td>1</td>\n",
       "      <td>4.94</td>\n",
       "      <td>7.0</td>\n",
       "      <td>0</td>\n",
       "    </tr>\n",
       "    <tr>\n",
       "      <th>119</th>\n",
       "      <td>46.0</td>\n",
       "      <td>12200.31</td>\n",
       "      <td>0</td>\n",
       "      <td>6.62</td>\n",
       "      <td>10.0</td>\n",
       "      <td>1</td>\n",
       "    </tr>\n",
       "    <tr>\n",
       "      <th>378</th>\n",
       "      <td>40.0</td>\n",
       "      <td>4762.81</td>\n",
       "      <td>1</td>\n",
       "      <td>5.12</td>\n",
       "      <td>10.0</td>\n",
       "      <td>0</td>\n",
       "    </tr>\n",
       "  </tbody>\n",
       "</table>\n",
       "</div>"
      ],
      "text/plain": [
       "      Age  Total_Purchase  Account_Manager  Years  Num_Sites  Churn\n",
       "549  45.0         9852.25                1   4.55        8.0      0\n",
       "73   37.0        11145.95                1   5.87       11.0      1\n",
       "295  41.0        12008.34                1   4.94        7.0      0\n",
       "119  46.0        12200.31                0   6.62       10.0      1\n",
       "378  40.0         4762.81                1   5.12       10.0      0"
      ]
     },
     "execution_count": 15,
     "metadata": {},
     "output_type": "execute_result"
    }
   ],
   "source": [
    "data.head()"
   ]
  },
  {
   "cell_type": "code",
   "execution_count": 16,
   "id": "2d124cce",
   "metadata": {},
   "outputs": [],
   "source": [
    "x=data.drop(columns=['Churn'])\n",
    "y=data['Churn']"
   ]
  },
  {
   "cell_type": "code",
   "execution_count": 17,
   "id": "246cd03a",
   "metadata": {},
   "outputs": [
    {
     "data": {
      "text/plain": [
       "array([[ 0.51979958, -0.0874729 ,  1.03851911, -0.56774154, -0.33323478],\n",
       "       [-0.78650303,  0.44993281,  1.03851911,  0.46857606,  1.36758544],\n",
       "       [-0.13335172,  0.80817144,  1.03851911, -0.26155679, -0.90017485],\n",
       "       ...,\n",
       "       [ 0.84637523, -0.73563312, -0.96290958, -0.63054867, -0.90017485],\n",
       "       [-0.13335172,  0.35599378, -0.96290958, -0.50493441, -0.33323478],\n",
       "       [ 0.51979958, -0.42728844, -0.96290958,  1.26936694,  0.2337053 ]])"
      ]
     },
     "execution_count": 17,
     "metadata": {},
     "output_type": "execute_result"
    }
   ],
   "source": [
    "from sklearn.preprocessing import StandardScaler,LabelEncoder\n",
    "scaler=StandardScaler()\n",
    "x=scaler.fit_transform(x)\n",
    "x"
   ]
  },
  {
   "cell_type": "code",
   "execution_count": 18,
   "id": "f01523d8",
   "metadata": {},
   "outputs": [
    {
     "data": {
      "text/plain": [
       "(900, 5)"
      ]
     },
     "execution_count": 18,
     "metadata": {},
     "output_type": "execute_result"
    }
   ],
   "source": [
    "x.shape"
   ]
  },
  {
   "cell_type": "code",
   "execution_count": 19,
   "id": "ce8bc62a",
   "metadata": {},
   "outputs": [],
   "source": [
    "from sklearn.model_selection import train_test_split\n",
    "x_train,x_test,y_train,y_test=train_test_split(x,y,test_size=0.2,random_state=42)"
   ]
  },
  {
   "cell_type": "code",
   "execution_count": 20,
   "id": "3f5ea571",
   "metadata": {},
   "outputs": [],
   "source": [
    "from sklearn.preprocessing import StandardScaler\n",
    "x_train, x_val, y_train, y_val = train_test_split(x_train, y_train, test_size=0.2, random_state=42)\n",
    "scaler=StandardScaler()\n",
    "x_train_scaled=scaler.fit_transform(x_train)\n",
    "x_val_scaled=scaler.transform(x_val)"
   ]
  },
  {
   "cell_type": "code",
   "execution_count": 21,
   "id": "0ff9e2b7",
   "metadata": {},
   "outputs": [
    {
     "name": "stdout",
     "output_type": "stream",
     "text": [
      "576\n",
      "144\n"
     ]
    }
   ],
   "source": [
    "print(len(x_train))\n",
    "print(len(x_val))"
   ]
  },
  {
   "cell_type": "code",
   "execution_count": 22,
   "id": "88dafc67",
   "metadata": {},
   "outputs": [
    {
     "name": "stdout",
     "output_type": "stream",
     "text": [
      "WARNING:tensorflow:From C:\\Users\\DELL\\anaconda3\\Lib\\site-packages\\keras\\src\\losses.py:2976: The name tf.losses.sparse_softmax_cross_entropy is deprecated. Please use tf.compat.v1.losses.sparse_softmax_cross_entropy instead.\n",
      "\n"
     ]
    }
   ],
   "source": [
    "import tensorflow as tf\n",
    "from tensorflow import keras"
   ]
  },
  {
   "cell_type": "code",
   "execution_count": 23,
   "id": "1865caf9",
   "metadata": {},
   "outputs": [
    {
     "name": "stdout",
     "output_type": "stream",
     "text": [
      "WARNING:tensorflow:From C:\\Users\\DELL\\anaconda3\\Lib\\site-packages\\keras\\src\\backend.py:1398: The name tf.executing_eagerly_outside_functions is deprecated. Please use tf.compat.v1.executing_eagerly_outside_functions instead.\n",
      "\n"
     ]
    }
   ],
   "source": [
    "model=keras.Sequential([\n",
    "    keras.layers.Input(shape=(x_train.shape[1],)),\n",
    "    keras.layers.Dense(128,activation='relu'),\n",
    "    keras.layers.Dense(64,activation='relu'),\n",
    "    keras.layers.Dense(32,activation='relu'),\n",
    "    keras.layers.Dense(1)   \n",
    "])"
   ]
  },
  {
   "cell_type": "code",
   "execution_count": 24,
   "id": "a7d195a2",
   "metadata": {},
   "outputs": [
    {
     "name": "stdout",
     "output_type": "stream",
     "text": [
      "Model: \"sequential\"\n",
      "_________________________________________________________________\n",
      " Layer (type)                Output Shape              Param #   \n",
      "=================================================================\n",
      " dense (Dense)               (None, 128)               768       \n",
      "                                                                 \n",
      " dense_1 (Dense)             (None, 64)                8256      \n",
      "                                                                 \n",
      " dense_2 (Dense)             (None, 32)                2080      \n",
      "                                                                 \n",
      " dense_3 (Dense)             (None, 1)                 33        \n",
      "                                                                 \n",
      "=================================================================\n",
      "Total params: 11137 (43.50 KB)\n",
      "Trainable params: 11137 (43.50 KB)\n",
      "Non-trainable params: 0 (0.00 Byte)\n",
      "_________________________________________________________________\n"
     ]
    }
   ],
   "source": [
    "model.summary()"
   ]
  },
  {
   "cell_type": "code",
   "execution_count": 25,
   "id": "1ef93e07",
   "metadata": {},
   "outputs": [
    {
     "name": "stdout",
     "output_type": "stream",
     "text": [
      "WARNING:tensorflow:From C:\\Users\\DELL\\anaconda3\\Lib\\site-packages\\keras\\src\\optimizers\\__init__.py:309: The name tf.train.Optimizer is deprecated. Please use tf.compat.v1.train.Optimizer instead.\n",
      "\n"
     ]
    }
   ],
   "source": [
    "model.compile(loss='binary_crossentropy',\n",
    "              optimizer='adam',\n",
    "              metrics=['accuracy'])"
   ]
  },
  {
   "cell_type": "markdown",
   "id": "e3cf6292",
   "metadata": {},
   "source": [
    "#### Loss Function ('binary_crossentropy' in this case): Binary crossentropy is a common choice for binary classification problems, such as churn prediction. It measures the difference between the true labels and the predicted probabilities."
   ]
  },
  {
   "cell_type": "code",
   "execution_count": 26,
   "id": "f6ba7829",
   "metadata": {},
   "outputs": [
    {
     "name": "stdout",
     "output_type": "stream",
     "text": [
      "Epoch 1/50\n",
      "WARNING:tensorflow:From C:\\Users\\DELL\\anaconda3\\Lib\\site-packages\\keras\\src\\utils\\tf_utils.py:492: The name tf.ragged.RaggedTensorValue is deprecated. Please use tf.compat.v1.ragged.RaggedTensorValue instead.\n",
      "\n",
      "WARNING:tensorflow:From C:\\Users\\DELL\\anaconda3\\Lib\\site-packages\\keras\\src\\engine\\base_layer_utils.py:384: The name tf.executing_eagerly_outside_functions is deprecated. Please use tf.compat.v1.executing_eagerly_outside_functions instead.\n",
      "\n",
      "18/18 - 1s - loss: 0.8173 - accuracy: 0.8264 - val_loss: 0.3141 - val_accuracy: 0.8403 - 1s/epoch - 76ms/step\n",
      "Epoch 2/50\n",
      "18/18 - 0s - loss: 0.4458 - accuracy: 0.8524 - val_loss: 0.2765 - val_accuracy: 0.8819 - 129ms/epoch - 7ms/step\n",
      "Epoch 3/50\n",
      "18/18 - 0s - loss: 0.3883 - accuracy: 0.8646 - val_loss: 0.2696 - val_accuracy: 0.8819 - 119ms/epoch - 7ms/step\n",
      "Epoch 4/50\n",
      "18/18 - 0s - loss: 0.3694 - accuracy: 0.8767 - val_loss: 0.3492 - val_accuracy: 0.8958 - 124ms/epoch - 7ms/step\n",
      "Epoch 5/50\n",
      "18/18 - 0s - loss: 0.3572 - accuracy: 0.8854 - val_loss: 0.3605 - val_accuracy: 0.9028 - 143ms/epoch - 8ms/step\n",
      "Epoch 6/50\n",
      "18/18 - 0s - loss: 0.3490 - accuracy: 0.8802 - val_loss: 0.4278 - val_accuracy: 0.8889 - 149ms/epoch - 8ms/step\n",
      "Epoch 7/50\n",
      "18/18 - 0s - loss: 0.3456 - accuracy: 0.8906 - val_loss: 0.3399 - val_accuracy: 0.9028 - 93ms/epoch - 5ms/step\n",
      "Epoch 8/50\n",
      "18/18 - 0s - loss: 0.3384 - accuracy: 0.8889 - val_loss: 0.4215 - val_accuracy: 0.9028 - 64ms/epoch - 4ms/step\n",
      "Epoch 9/50\n",
      "18/18 - 0s - loss: 0.3319 - accuracy: 0.8889 - val_loss: 0.4195 - val_accuracy: 0.8889 - 73ms/epoch - 4ms/step\n",
      "Epoch 10/50\n",
      "18/18 - 0s - loss: 0.3285 - accuracy: 0.8958 - val_loss: 0.5052 - val_accuracy: 0.9097 - 108ms/epoch - 6ms/step\n",
      "Epoch 11/50\n",
      "18/18 - 0s - loss: 0.3275 - accuracy: 0.8958 - val_loss: 0.4128 - val_accuracy: 0.8750 - 64ms/epoch - 4ms/step\n",
      "Epoch 12/50\n",
      "18/18 - 0s - loss: 0.3225 - accuracy: 0.8924 - val_loss: 0.4153 - val_accuracy: 0.8889 - 57ms/epoch - 3ms/step\n",
      "Epoch 13/50\n",
      "18/18 - 0s - loss: 0.3183 - accuracy: 0.8941 - val_loss: 0.4257 - val_accuracy: 0.9028 - 59ms/epoch - 3ms/step\n",
      "Epoch 14/50\n",
      "18/18 - 0s - loss: 0.3151 - accuracy: 0.8924 - val_loss: 0.4186 - val_accuracy: 0.8750 - 82ms/epoch - 5ms/step\n",
      "Epoch 15/50\n",
      "18/18 - 0s - loss: 0.3141 - accuracy: 0.8958 - val_loss: 0.5165 - val_accuracy: 0.8958 - 120ms/epoch - 7ms/step\n",
      "Epoch 16/50\n",
      "18/18 - 0s - loss: 0.3094 - accuracy: 0.9010 - val_loss: 0.4248 - val_accuracy: 0.9097 - 122ms/epoch - 7ms/step\n",
      "Epoch 17/50\n",
      "18/18 - 0s - loss: 0.3099 - accuracy: 0.9028 - val_loss: 0.5227 - val_accuracy: 0.8750 - 132ms/epoch - 7ms/step\n",
      "Epoch 18/50\n",
      "18/18 - 0s - loss: 0.3083 - accuracy: 0.9028 - val_loss: 0.5251 - val_accuracy: 0.8958 - 146ms/epoch - 8ms/step\n",
      "Epoch 19/50\n",
      "18/18 - 0s - loss: 0.3045 - accuracy: 0.9062 - val_loss: 0.4338 - val_accuracy: 0.9028 - 127ms/epoch - 7ms/step\n",
      "Epoch 20/50\n",
      "18/18 - 0s - loss: 0.3032 - accuracy: 0.9045 - val_loss: 0.5355 - val_accuracy: 0.8958 - 106ms/epoch - 6ms/step\n",
      "Epoch 21/50\n",
      "18/18 - 0s - loss: 0.3306 - accuracy: 0.8924 - val_loss: 0.4341 - val_accuracy: 0.8958 - 121ms/epoch - 7ms/step\n",
      "Epoch 22/50\n",
      "18/18 - 0s - loss: 0.2958 - accuracy: 0.9045 - val_loss: 0.4463 - val_accuracy: 0.8958 - 96ms/epoch - 5ms/step\n",
      "Epoch 23/50\n",
      "18/18 - 0s - loss: 0.2917 - accuracy: 0.9097 - val_loss: 0.5208 - val_accuracy: 0.8819 - 123ms/epoch - 7ms/step\n",
      "Epoch 24/50\n",
      "18/18 - 0s - loss: 0.2914 - accuracy: 0.9028 - val_loss: 0.4769 - val_accuracy: 0.8958 - 102ms/epoch - 6ms/step\n",
      "Epoch 25/50\n",
      "18/18 - 0s - loss: 0.2884 - accuracy: 0.9062 - val_loss: 0.4445 - val_accuracy: 0.8958 - 90ms/epoch - 5ms/step\n",
      "Epoch 26/50\n",
      "18/18 - 0s - loss: 0.2855 - accuracy: 0.9132 - val_loss: 0.5391 - val_accuracy: 0.8889 - 107ms/epoch - 6ms/step\n",
      "Epoch 27/50\n",
      "18/18 - 0s - loss: 0.2850 - accuracy: 0.9097 - val_loss: 0.4720 - val_accuracy: 0.8889 - 109ms/epoch - 6ms/step\n",
      "Epoch 28/50\n",
      "18/18 - 0s - loss: 0.2812 - accuracy: 0.9184 - val_loss: 0.5735 - val_accuracy: 0.8819 - 107ms/epoch - 6ms/step\n",
      "Epoch 29/50\n",
      "18/18 - 0s - loss: 0.2786 - accuracy: 0.9167 - val_loss: 0.4777 - val_accuracy: 0.8750 - 111ms/epoch - 6ms/step\n",
      "Epoch 30/50\n",
      "18/18 - 0s - loss: 0.2774 - accuracy: 0.9115 - val_loss: 0.5546 - val_accuracy: 0.8750 - 128ms/epoch - 7ms/step\n",
      "Epoch 31/50\n",
      "18/18 - 0s - loss: 0.2776 - accuracy: 0.9184 - val_loss: 0.7301 - val_accuracy: 0.8681 - 150ms/epoch - 8ms/step\n",
      "Epoch 32/50\n",
      "18/18 - 0s - loss: 0.2691 - accuracy: 0.9184 - val_loss: 0.5717 - val_accuracy: 0.8681 - 131ms/epoch - 7ms/step\n",
      "Epoch 33/50\n",
      "18/18 - 0s - loss: 0.2699 - accuracy: 0.9167 - val_loss: 0.6568 - val_accuracy: 0.8750 - 126ms/epoch - 7ms/step\n",
      "Epoch 34/50\n",
      "18/18 - 0s - loss: 0.2679 - accuracy: 0.9201 - val_loss: 0.6819 - val_accuracy: 0.8889 - 100ms/epoch - 6ms/step\n",
      "Epoch 35/50\n",
      "18/18 - 0s - loss: 0.2637 - accuracy: 0.9236 - val_loss: 0.7298 - val_accuracy: 0.8750 - 141ms/epoch - 8ms/step\n",
      "Epoch 36/50\n",
      "18/18 - 0s - loss: 0.2630 - accuracy: 0.9288 - val_loss: 0.7300 - val_accuracy: 0.8750 - 110ms/epoch - 6ms/step\n",
      "Epoch 37/50\n",
      "18/18 - 0s - loss: 0.2599 - accuracy: 0.9219 - val_loss: 0.7240 - val_accuracy: 0.8750 - 136ms/epoch - 8ms/step\n",
      "Epoch 38/50\n",
      "18/18 - 0s - loss: 0.2618 - accuracy: 0.9149 - val_loss: 0.8641 - val_accuracy: 0.8750 - 132ms/epoch - 7ms/step\n",
      "Epoch 39/50\n",
      "18/18 - 0s - loss: 0.2610 - accuracy: 0.9323 - val_loss: 0.7773 - val_accuracy: 0.8681 - 142ms/epoch - 8ms/step\n",
      "Epoch 40/50\n",
      "18/18 - 0s - loss: 0.2515 - accuracy: 0.9323 - val_loss: 0.6406 - val_accuracy: 0.8611 - 154ms/epoch - 9ms/step\n",
      "Epoch 41/50\n",
      "18/18 - 0s - loss: 0.2947 - accuracy: 0.9253 - val_loss: 0.7369 - val_accuracy: 0.8681 - 158ms/epoch - 9ms/step\n",
      "Epoch 42/50\n",
      "18/18 - 0s - loss: 0.2560 - accuracy: 0.9184 - val_loss: 0.8153 - val_accuracy: 0.8681 - 150ms/epoch - 8ms/step\n",
      "Epoch 43/50\n",
      "18/18 - 0s - loss: 0.4119 - accuracy: 0.9062 - val_loss: 0.7351 - val_accuracy: 0.8611 - 136ms/epoch - 8ms/step\n",
      "Epoch 44/50\n",
      "18/18 - 0s - loss: 0.2765 - accuracy: 0.9184 - val_loss: 0.8313 - val_accuracy: 0.8750 - 133ms/epoch - 7ms/step\n",
      "Epoch 45/50\n",
      "18/18 - 0s - loss: 0.2603 - accuracy: 0.9288 - val_loss: 0.7442 - val_accuracy: 0.8472 - 145ms/epoch - 8ms/step\n",
      "Epoch 46/50\n",
      "18/18 - 0s - loss: 0.2523 - accuracy: 0.9184 - val_loss: 0.8375 - val_accuracy: 0.8611 - 158ms/epoch - 9ms/step\n",
      "Epoch 47/50\n",
      "18/18 - 0s - loss: 0.2370 - accuracy: 0.9323 - val_loss: 0.8253 - val_accuracy: 0.8750 - 135ms/epoch - 7ms/step\n",
      "Epoch 48/50\n",
      "18/18 - 0s - loss: 0.2324 - accuracy: 0.9271 - val_loss: 0.6403 - val_accuracy: 0.8750 - 135ms/epoch - 8ms/step\n",
      "Epoch 49/50\n",
      "18/18 - 0s - loss: 0.2272 - accuracy: 0.9392 - val_loss: 0.7614 - val_accuracy: 0.8750 - 119ms/epoch - 7ms/step\n",
      "Epoch 50/50\n",
      "18/18 - 0s - loss: 0.2190 - accuracy: 0.9358 - val_loss: 0.8258 - val_accuracy: 0.8819 - 132ms/epoch - 7ms/step\n"
     ]
    }
   ],
   "source": [
    "history=model.fit(x_train_scaled,y_train,validation_data=(x_val_scaled,y_val),epochs=50,batch_size=32,verbose=2)"
   ]
  },
  {
   "cell_type": "code",
   "execution_count": 27,
   "id": "7163a098",
   "metadata": {},
   "outputs": [
    {
     "name": "stdout",
     "output_type": "stream",
     "text": [
      "5/5 [==============================] - 0s 3ms/step - loss: 0.8258 - accuracy: 0.8819\n",
      "5/5 [==============================] - 0s 2ms/step\n"
     ]
    }
   ],
   "source": [
    "loss=model.evaluate(x_val_scaled,y_val)\n",
    "predictions=model.predict(x_val_scaled)"
   ]
  },
  {
   "cell_type": "code",
   "execution_count": 28,
   "id": "15bdc5fa",
   "metadata": {},
   "outputs": [],
   "source": [
    "model.save('minstmodel2.keras')"
   ]
  },
  {
   "cell_type": "code",
   "execution_count": null,
   "id": "07c95335",
   "metadata": {},
   "outputs": [],
   "source": []
  },
  {
   "cell_type": "code",
   "execution_count": null,
   "id": "c44a31c1",
   "metadata": {},
   "outputs": [],
   "source": []
  }
 ],
 "metadata": {
  "kernelspec": {
   "display_name": "Python 3 (ipykernel)",
   "language": "python",
   "name": "python3"
  },
  "language_info": {
   "codemirror_mode": {
    "name": "ipython",
    "version": 3
   },
   "file_extension": ".py",
   "mimetype": "text/x-python",
   "name": "python",
   "nbconvert_exporter": "python",
   "pygments_lexer": "ipython3",
   "version": "3.11.4"
  }
 },
 "nbformat": 4,
 "nbformat_minor": 5
}
