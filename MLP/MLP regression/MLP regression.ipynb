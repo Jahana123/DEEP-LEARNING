{
 "cells": [
  {
   "cell_type": "code",
   "execution_count": 2,
   "id": "a4bf89df",
   "metadata": {},
   "outputs": [
    {
     "name": "stdout",
     "output_type": "stream",
     "text": [
      "WARNING:tensorflow:From C:\\Users\\DELL\\anaconda3\\Lib\\site-packages\\keras\\src\\losses.py:2976: The name tf.losses.sparse_softmax_cross_entropy is deprecated. Please use tf.compat.v1.losses.sparse_softmax_cross_entropy instead.\n",
      "\n"
     ]
    }
   ],
   "source": [
    "import tensorflow as tf\n",
    "import numpy as np\n",
    "from tensorflow import keras\n",
    "from sklearn.model_selection import train_test_split\n",
    "from sklearn.preprocessing import StandardScaler\n",
    "from sklearn.datasets import fetch_california_housing"
   ]
  },
  {
   "cell_type": "code",
   "execution_count": 3,
   "id": "b4fff97b",
   "metadata": {},
   "outputs": [],
   "source": [
    "housing=fetch_california_housing()\n",
    "\n",
    "X=housing.data\n",
    "y=housing.target\n",
    "\n",
    "X_train,X_val,y_train,y_val=train_test_split(X,y,test_size=0.2,random_state=42)\n",
    "\n",
    "scaler=StandardScaler()\n",
    "X_train_scaled=scaler.fit_transform(X_train)\n",
    "X_val_scaled=scaler.transform(X_val)\n"
   ]
  },
  {
   "cell_type": "code",
   "execution_count": 4,
   "id": "c4ec60bb",
   "metadata": {},
   "outputs": [
    {
     "name": "stdout",
     "output_type": "stream",
     "text": [
      "16512\n",
      "4128\n"
     ]
    }
   ],
   "source": [
    "print(len(X_train))\n",
    "print(len(X_val)) "
   ]
  },
  {
   "cell_type": "code",
   "execution_count": 5,
   "id": "424a9b66",
   "metadata": {},
   "outputs": [
    {
     "name": "stdout",
     "output_type": "stream",
     "text": [
      "WARNING:tensorflow:From C:\\Users\\DELL\\anaconda3\\Lib\\site-packages\\keras\\src\\backend.py:1398: The name tf.executing_eagerly_outside_functions is deprecated. Please use tf.compat.v1.executing_eagerly_outside_functions instead.\n",
      "\n"
     ]
    }
   ],
   "source": [
    "model=keras.Sequential([\n",
    "    keras.layers.Input(shape=(X_train.shape[1],)), #input layer\n",
    "    keras.layers.Dense(64,activation='relu'), #hidden layer\n",
    "    keras.layers.Dense(32,activation='relu'), # additional hidden layer\n",
    "    keras.layers.Dense(1) #output layer\n",
    "    \n",
    "])"
   ]
  },
  {
   "cell_type": "code",
   "execution_count": 6,
   "id": "f657c2dd",
   "metadata": {},
   "outputs": [
    {
     "name": "stdout",
     "output_type": "stream",
     "text": [
      "WARNING:tensorflow:From C:\\Users\\DELL\\anaconda3\\Lib\\site-packages\\keras\\src\\optimizers\\__init__.py:309: The name tf.train.Optimizer is deprecated. Please use tf.compat.v1.train.Optimizer instead.\n",
      "\n"
     ]
    }
   ],
   "source": [
    "model.compile(loss='mean_squared_error',optimizer='adam')"
   ]
  },
  {
   "cell_type": "code",
   "execution_count": 7,
   "id": "238b12f4",
   "metadata": {},
   "outputs": [
    {
     "name": "stdout",
     "output_type": "stream",
     "text": [
      "Epoch 1/50\n",
      "WARNING:tensorflow:From C:\\Users\\DELL\\anaconda3\\Lib\\site-packages\\keras\\src\\utils\\tf_utils.py:492: The name tf.ragged.RaggedTensorValue is deprecated. Please use tf.compat.v1.ragged.RaggedTensorValue instead.\n",
      "\n",
      "516/516 [==============================] - 3s 3ms/step - loss: 0.8171 - val_loss: 0.4223\n",
      "Epoch 2/50\n",
      "516/516 [==============================] - 2s 3ms/step - loss: 0.3931 - val_loss: 0.3899\n",
      "Epoch 3/50\n",
      "516/516 [==============================] - 2s 3ms/step - loss: 0.3704 - val_loss: 0.3712\n",
      "Epoch 4/50\n",
      "516/516 [==============================] - 2s 3ms/step - loss: 0.3514 - val_loss: 0.3710\n",
      "Epoch 5/50\n",
      "516/516 [==============================] - 2s 3ms/step - loss: 0.3941 - val_loss: 0.3384\n",
      "Epoch 6/50\n",
      "516/516 [==============================] - 2s 3ms/step - loss: 0.3322 - val_loss: 0.3545\n",
      "Epoch 7/50\n",
      "516/516 [==============================] - 2s 3ms/step - loss: 0.3268 - val_loss: 0.3332\n",
      "Epoch 8/50\n",
      "516/516 [==============================] - 2s 4ms/step - loss: 0.3202 - val_loss: 0.3300\n",
      "Epoch 9/50\n",
      "516/516 [==============================] - 2s 3ms/step - loss: 0.3105 - val_loss: 0.3175\n",
      "Epoch 10/50\n",
      "516/516 [==============================] - 2s 3ms/step - loss: 0.3093 - val_loss: 0.3210\n",
      "Epoch 11/50\n",
      "516/516 [==============================] - 2s 3ms/step - loss: 0.3056 - val_loss: 0.3084\n",
      "Epoch 12/50\n",
      "516/516 [==============================] - 2s 3ms/step - loss: 0.2963 - val_loss: 0.3148\n",
      "Epoch 13/50\n",
      "516/516 [==============================] - 2s 3ms/step - loss: 0.2912 - val_loss: 0.3045\n",
      "Epoch 14/50\n",
      "516/516 [==============================] - 2s 4ms/step - loss: 0.2994 - val_loss: 0.3027\n",
      "Epoch 15/50\n",
      "516/516 [==============================] - 2s 5ms/step - loss: 0.3009 - val_loss: 0.3073\n",
      "Epoch 16/50\n",
      "516/516 [==============================] - 3s 6ms/step - loss: 0.3082 - val_loss: 0.2963\n",
      "Epoch 17/50\n",
      "516/516 [==============================] - 2s 4ms/step - loss: 0.3033 - val_loss: 0.2957\n",
      "Epoch 18/50\n",
      "516/516 [==============================] - 2s 3ms/step - loss: 0.2813 - val_loss: 0.2875\n",
      "Epoch 19/50\n",
      "516/516 [==============================] - 2s 4ms/step - loss: 0.2780 - val_loss: 0.2954\n",
      "Epoch 20/50\n",
      "516/516 [==============================] - 2s 3ms/step - loss: 0.2759 - val_loss: 0.2977\n",
      "Epoch 21/50\n",
      "516/516 [==============================] - 2s 3ms/step - loss: 0.2740 - val_loss: 0.2873\n",
      "Epoch 22/50\n",
      "516/516 [==============================] - 2s 3ms/step - loss: 0.2742 - val_loss: 0.2867\n",
      "Epoch 23/50\n",
      "516/516 [==============================] - 2s 3ms/step - loss: 0.2753 - val_loss: 0.2885\n",
      "Epoch 24/50\n",
      "516/516 [==============================] - 2s 3ms/step - loss: 0.2682 - val_loss: 0.2809\n",
      "Epoch 25/50\n",
      "516/516 [==============================] - 2s 4ms/step - loss: 0.2710 - val_loss: 0.3054\n",
      "Epoch 26/50\n",
      "516/516 [==============================] - 2s 3ms/step - loss: 0.2672 - val_loss: 0.2938\n",
      "Epoch 27/50\n",
      "516/516 [==============================] - 2s 4ms/step - loss: 0.2696 - val_loss: 0.2806\n",
      "Epoch 28/50\n",
      "516/516 [==============================] - 2s 4ms/step - loss: 0.2678 - val_loss: 0.2766\n",
      "Epoch 29/50\n",
      "516/516 [==============================] - 2s 3ms/step - loss: 0.2656 - val_loss: 0.2829\n",
      "Epoch 30/50\n",
      "516/516 [==============================] - 2s 3ms/step - loss: 0.2620 - val_loss: 0.2797\n",
      "Epoch 31/50\n",
      "516/516 [==============================] - 2s 3ms/step - loss: 0.2660 - val_loss: 0.2986\n",
      "Epoch 32/50\n",
      "516/516 [==============================] - 2s 3ms/step - loss: 0.2606 - val_loss: 0.2750\n",
      "Epoch 33/50\n",
      "516/516 [==============================] - 2s 3ms/step - loss: 0.2605 - val_loss: 0.2754\n",
      "Epoch 34/50\n",
      "516/516 [==============================] - 2s 4ms/step - loss: 0.2604 - val_loss: 0.2788\n",
      "Epoch 35/50\n",
      "516/516 [==============================] - 3s 6ms/step - loss: 0.2575 - val_loss: 0.2962\n",
      "Epoch 36/50\n",
      "516/516 [==============================] - 2s 4ms/step - loss: 0.2579 - val_loss: 0.2806\n",
      "Epoch 37/50\n",
      "516/516 [==============================] - 2s 3ms/step - loss: 0.2578 - val_loss: 0.2782\n",
      "Epoch 38/50\n",
      "516/516 [==============================] - 2s 4ms/step - loss: 0.2562 - val_loss: 0.2762\n",
      "Epoch 39/50\n",
      "516/516 [==============================] - 2s 4ms/step - loss: 0.2529 - val_loss: 0.2810\n",
      "Epoch 40/50\n",
      "516/516 [==============================] - 1s 3ms/step - loss: 0.2517 - val_loss: 0.2703\n",
      "Epoch 41/50\n",
      "516/516 [==============================] - 2s 3ms/step - loss: 0.2526 - val_loss: 0.2727\n",
      "Epoch 42/50\n",
      "516/516 [==============================] - 2s 3ms/step - loss: 0.2508 - val_loss: 0.2751\n",
      "Epoch 43/50\n",
      "516/516 [==============================] - 2s 4ms/step - loss: 0.2508 - val_loss: 0.2651\n",
      "Epoch 44/50\n",
      "516/516 [==============================] - 2s 3ms/step - loss: 0.2487 - val_loss: 0.2706\n",
      "Epoch 45/50\n",
      "516/516 [==============================] - 2s 3ms/step - loss: 0.2495 - val_loss: 0.2765\n",
      "Epoch 46/50\n",
      "516/516 [==============================] - 2s 3ms/step - loss: 0.2478 - val_loss: 0.2754\n",
      "Epoch 47/50\n",
      "516/516 [==============================] - 2s 3ms/step - loss: 0.2511 - val_loss: 0.2819\n",
      "Epoch 48/50\n",
      "516/516 [==============================] - 2s 3ms/step - loss: 0.2451 - val_loss: 0.2705\n",
      "Epoch 49/50\n",
      "516/516 [==============================] - 2s 3ms/step - loss: 0.2474 - val_loss: 0.2759\n",
      "Epoch 50/50\n",
      "516/516 [==============================] - 2s 3ms/step - loss: 0.2451 - val_loss: 0.2776\n"
     ]
    }
   ],
   "source": [
    "history=model.fit(X_train_scaled,y_train,validation_data=(X_val_scaled,y_val),epochs=50,batch_size=32,verbose=1)"
   ]
  },
  {
   "cell_type": "markdown",
   "id": "d563997e",
   "metadata": {},
   "source": [
    "#### verbose: Integer. 0, 1, or 2. Verbosity mode. 0 = silent, 1 = progress bar, 2 = one line per epoch."
   ]
  },
  {
   "cell_type": "code",
   "execution_count": 8,
   "id": "33de390e",
   "metadata": {},
   "outputs": [
    {
     "name": "stdout",
     "output_type": "stream",
     "text": [
      "129/129 [==============================] - 0s 2ms/step - loss: 0.2776\n",
      "129/129 [==============================] - 0s 2ms/step\n"
     ]
    }
   ],
   "source": [
    "val_loss=model.evaluate(X_val_scaled,y_val)\n",
    "predictions=model.predict(X_val_scaled)"
   ]
  },
  {
   "cell_type": "code",
   "execution_count": 9,
   "id": "a10601c1",
   "metadata": {},
   "outputs": [
    {
     "name": "stdout",
     "output_type": "stream",
     "text": [
      "Mean squared error: 0.2775635021591839\n",
      "Root Mean squared error: 0.5268429577769679\n",
      "Mean absolute error: 0.354230298404652\n",
      "R-squared : 0.7881855918510368\n"
     ]
    }
   ],
   "source": [
    "from sklearn.metrics import mean_squared_error,mean_absolute_error,r2_score\n",
    "\n",
    "mse=mean_squared_error(y_val,predictions)\n",
    "print(f'Mean squared error: {mse}')\n",
    "\n",
    "rmse=np.sqrt(mse)\n",
    "print(f'Root Mean squared error: {rmse}')\n",
    "\n",
    "mae=mean_absolute_error(y_val,predictions)\n",
    "print(f'Mean absolute error: {mae}')\n",
    "\n",
    "r2=r2_score(y_val,predictions)\n",
    "print(f'R-squared : {r2}')\n"
   ]
  },
  {
   "cell_type": "code",
   "execution_count": 10,
   "id": "e4817471",
   "metadata": {},
   "outputs": [],
   "source": [
    "model.save('minstmodel1.keras')"
   ]
  },
  {
   "cell_type": "code",
   "execution_count": null,
   "id": "adccb297",
   "metadata": {},
   "outputs": [],
   "source": []
  },
  {
   "cell_type": "code",
   "execution_count": null,
   "id": "fbca6b79",
   "metadata": {},
   "outputs": [],
   "source": []
  }
 ],
 "metadata": {
  "kernelspec": {
   "display_name": "Python 3 (ipykernel)",
   "language": "python",
   "name": "python3"
  },
  "language_info": {
   "codemirror_mode": {
    "name": "ipython",
    "version": 3
   },
   "file_extension": ".py",
   "mimetype": "text/x-python",
   "name": "python",
   "nbconvert_exporter": "python",
   "pygments_lexer": "ipython3",
   "version": "3.11.4"
  }
 },
 "nbformat": 4,
 "nbformat_minor": 5
}
