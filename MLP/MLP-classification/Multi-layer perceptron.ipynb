{
 "cells": [
  {
   "cell_type": "code",
   "execution_count": 1,
   "id": "cf281735",
   "metadata": {
    "executionInfo": {
     "elapsed": 4542,
     "status": "ok",
     "timestamp": 1701835226950,
     "user": {
      "displayName": "Data Science perinthalmanna",
      "userId": "16789623483377748101"
     },
     "user_tz": -330
    },
    "id": "cf281735"
   },
   "outputs": [
    {
     "name": "stdout",
     "output_type": "stream",
     "text": [
      "WARNING:tensorflow:From C:\\Users\\DELL\\anaconda3\\Lib\\site-packages\\keras\\src\\losses.py:2976: The name tf.losses.sparse_softmax_cross_entropy is deprecated. Please use tf.compat.v1.losses.sparse_softmax_cross_entropy instead.\n",
      "\n"
     ]
    }
   ],
   "source": [
    "import tensorflow as tf\n",
    "import numpy as np\n",
    "import matplotlib.pyplot as plt"
   ]
  },
  {
   "cell_type": "code",
   "execution_count": 2,
   "id": "ed3d321d",
   "metadata": {
    "id": "ed3d321d"
   },
   "outputs": [],
   "source": [
    "mnist = tf.keras.datasets.mnist\n",
    "(x_train,y_train) , (x_test,y_test) = mnist.load_data()\n",
    "\n",
    "x_train = tf.keras.utils.normalize(x_train,axis=1)\n",
    "x_test = tf.keras.utils.normalize(x_test,axis=1)"
   ]
  },
  {
   "cell_type": "code",
   "execution_count": 3,
   "id": "3a880422",
   "metadata": {
    "id": "3a880422",
    "outputId": "131324d8-5074-4896-ad4d-e6e082bdabdf"
   },
   "outputs": [
    {
     "data": {
      "image/png": "[encoded data removed]",
      "text/plain": [
       "<Figure size 640x480 with 1 Axes>"
      ]
     },
     "metadata": {},
     "output_type": "display_data"
    }
   ],
   "source": [
    "def draw(n):\n",
    "    plt.imshow(n,cmap=plt.cm.binary)\n",
    "    plt.show()\n",
    "\n",
    "draw(x_train[8])"
   ]
  },
  {
   "cell_type": "code",
   "execution_count": 4,
   "id": "e310d696",
   "metadata": {
    "id": "e310d696",
    "outputId": "41aa0aeb-cd4b-4670-fad3-b42b92758567"
   },
   "outputs": [
    {
     "name": "stdout",
     "output_type": "stream",
     "text": [
      "WARNING:tensorflow:From C:\\Users\\DELL\\anaconda3\\Lib\\site-packages\\keras\\src\\backend.py:873: The name tf.get_default_graph is deprecated. Please use tf.compat.v1.get_default_graph instead.\n",
      "\n",
      "WARNING:tensorflow:From C:\\Users\\DELL\\anaconda3\\Lib\\site-packages\\keras\\src\\optimizers\\__init__.py:309: The name tf.train.Optimizer is deprecated. Please use tf.compat.v1.train.Optimizer instead.\n",
      "\n",
      "Epoch 1/3\n",
      "WARNING:tensorflow:From C:\\Users\\DELL\\anaconda3\\Lib\\site-packages\\keras\\src\\utils\\tf_utils.py:492: The name tf.ragged.RaggedTensorValue is deprecated. Please use tf.compat.v1.ragged.RaggedTensorValue instead.\n",
      "\n",
      "WARNING:tensorflow:From C:\\Users\\DELL\\anaconda3\\Lib\\site-packages\\keras\\src\\engine\\base_layer_utils.py:384: The name tf.executing_eagerly_outside_functions is deprecated. Please use tf.compat.v1.executing_eagerly_outside_functions instead.\n",
      "\n",
      "1875/1875 [==============================] - 8s 4ms/step - loss: 0.2781 - accuracy: 0.9202\n",
      "Epoch 2/3\n",
      "1875/1875 [==============================] - 6s 3ms/step - loss: 0.1145 - accuracy: 0.9643\n",
      "Epoch 3/3\n",
      "1875/1875 [==============================] - 6s 3ms/step - loss: 0.0791 - accuracy: 0.9748\n"
     ]
    },
    {
     "data": {
      "text/plain": [
       "<keras.src.callbacks.History at 0x2ac9e996990>"
      ]
     },
     "execution_count": 4,
     "metadata": {},
     "output_type": "execute_result"
    }
   ],
   "source": [
    "model = tf.keras.models.Sequential()\n",
    "\n",
    "\n",
    "model.add(tf.keras.layers.Flatten(input_shape=(28, 28)))  # Input layer\n",
    "# The Flatten layer converts the 2D input images (28x28 pixels) into a 1D vector (784 elements).\n",
    "\n",
    "# the term \"units\" refers to the number of neurons or nodes in a particular layer.\n",
    "# The number of units in a layer determines the complexity and capacity of the layer to learn patterns from the input data.\n",
    "model.add(tf.keras.layers.Dense(units=128,activation=tf.nn.relu)) # Hidden Layer 1\n",
    "model.add(tf.keras.layers.Dense(units=64,activation=tf.nn.relu)) # Hidden Layer 2\n",
    "\n",
    "model.add(tf.keras.layers.Dense(units=10,activation=tf.nn.softmax)) # Output Layer\n",
    "# The number of units in the output layer depends on the number of classes you're trying to predict\n",
    "# the MNIST dataset, there are 10 classes (digits 0 to 9), so the output layer has 10 units, each corresponding to a class.\n",
    "\n",
    "model.compile(optimizer='adam',\n",
    "              loss='sparse_categorical_crossentropy',\n",
    "              metrics=['accuracy']\n",
    "              )\n",
    "model.fit(x_train,y_train,epochs=3,batch_size=32)"
   ]
  },
  {
   "cell_type": "code",
   "execution_count": 5,
   "id": "3b1c8640",
   "metadata": {
    "id": "3b1c8640",
    "outputId": "eaca89ff-b761-4892-cfd2-33b90ffa60a5"
   },
   "outputs": [
    {
     "name": "stdout",
     "output_type": "stream",
     "text": [
      "313/313 [==============================] - 1s 3ms/step - loss: 0.0949 - accuracy: 0.9708\n",
      "loss->  0.09485723823308945 \n",
      "acc->  0.97079998254776\n"
     ]
    }
   ],
   "source": [
    "\n",
    "val_loss,val_acc = model.evaluate(x_test,y_test)\n",
    "print(\"loss-> \",val_loss,\"\\nacc-> \",val_acc)"
   ]
  },
  {
   "cell_type": "code",
   "execution_count": 6,
   "id": "faedfec0",
   "metadata": {
    "id": "faedfec0",
    "outputId": "c65c4b30-65b3-4a95-bb67-ac62422c95a7"
   },
   "outputs": [
    {
     "name": "stdout",
     "output_type": "stream",
     "text": [
      "313/313 [==============================] - 1s 3ms/step\n",
      "label ->  7\n",
      "[2.5296501e-07 4.0893221e-05 1.0057608e-02 5.4765627e-04 9.7630330e-09\n",
      " 1.8724181e-06 8.7288861e-09 9.8931271e-01 3.8697839e-05 2.2645082e-07]\n",
      "prediction ->  7\n"
     ]
    },
    {
     "data": {
      "image/png": "[encoded data removed]",
      "text/plain": [
       "<Figure size 640x480 with 1 Axes>"
      ]
     },
     "metadata": {},
     "output_type": "display_data"
    }
   ],
   "source": [
    "\n",
    "predictions=model.predict([x_test])\n",
    "#print(predictions)\n",
    "print('label -> ',y_test[34])\n",
    "print(predictions[34])\n",
    "print('prediction -> ',np.argmax(predictions[34]))\n",
    "\n",
    "draw(x_test[34])"
   ]
  },
  {
   "cell_type": "code",
   "execution_count": 7,
   "id": "3782d364",
   "metadata": {
    "id": "3782d364"
   },
   "outputs": [],
   "source": [
    "\n",
    "model.save('minstmodel.keras')"
   ]
  },
  {
   "cell_type": "code",
   "execution_count": 9,
   "id": "327a1b56",
   "metadata": {
    "id": "327a1b56",
    "outputId": "aa923469-fafd-452d-f1e5-3b1d4e9d097c"
   },
   "outputs": [
    {
     "name": "stdout",
     "output_type": "stream",
     "text": [
      "313/313 [==============================] - 1s 2ms/step\n",
      "label ->  5\n",
      "prediction ->  5\n"
     ]
    },
    {
     "data": {
      "image/png": "[encoded data removed]",
      "text/plain": [
       "<Figure size 640x480 with 1 Axes>"
      ]
     },
     "metadata": {},
     "output_type": "display_data"
    }
   ],
   "source": [
    "\n",
    "new_model = tf.keras.models.load_model('minstmodel.keras')\n",
    "predictions=new_model.predict([x_test])\n",
    "\n",
    "\n",
    "print('label -> ',y_test[15])\n",
    "print('prediction -> ',np.argmax(predictions[15]))\n",
    "\n",
    "draw(x_test[15])"
   ]
  },
  {
   "cell_type": "code",
   "execution_count": null,
   "id": "13cd226a",
   "metadata": {
    "id": "13cd226a"
   },
   "outputs": [],
   "source": []
  },
  {
   "cell_type": "code",
   "execution_count": null,
   "id": "bf561be8",
   "metadata": {},
   "outputs": [],
   "source": []
  }
 ],
 "metadata": {
  "colab": {
   "provenance": []
  },
  "kernelspec": {
   "display_name": "Python 3 (ipykernel)",
   "language": "python",
   "name": "python3"
  },
  "language_info": {
   "codemirror_mode": {
    "name": "ipython",
    "version": 3
   },
   "file_extension": ".py",
   "mimetype": "text/x-python",
   "name": "python",
   "nbconvert_exporter": "python",
   "pygments_lexer": "ipython3",
   "version": "3.11.4"
  }
 },
 "nbformat": 4,
 "nbformat_minor": 5
}
